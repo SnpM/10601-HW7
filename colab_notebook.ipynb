{
 "cells": [
  {
   "cell_type": "markdown",
   "metadata": {
    "id": "COs_-Y1xOKeJ"
   },
   "source": [
    "### Running Your Code in Colab\n",
    "\n",
    "We recommend you develop locally and then use Colab to run your code. You'll need to upload the code to drive.\n",
    "\n",
    "For experiments with a batch size greater than one, use the T4 GPU in order to see a *significant* speedup. This is crucial in order to run the experiments in a reasonable amount of time.\n",
    "\n",
    "Make sure to [download](https://drive.google.com/file/d/1mECKLG3NWH9uwFgAYRIdAKrABbTGkbVq/view?usp=sharing) the full training data."
   ]
  },
  {
   "cell_type": "code",
   "execution_count": null,
   "metadata": {
    "id": "0X2yjR1bI5C4"
   },
   "outputs": [
    {
     "ename": "ModuleNotFoundError",
     "evalue": "No module named 'google'",
     "output_type": "error",
     "traceback": [
      "\u001b[0;31m---------------------------------------------------------------------------\u001b[0m",
      "\u001b[0;31mModuleNotFoundError\u001b[0m                       Traceback (most recent call last)",
      "Cell \u001b[0;32mIn[1], line 2\u001b[0m\n\u001b[1;32m      1\u001b[0m \u001b[38;5;66;03m# Mount your drive to access files in your Google Drive\u001b[39;00m\n\u001b[0;32m----> 2\u001b[0m \u001b[38;5;28;01mfrom\u001b[39;00m \u001b[38;5;21;01mgoogle\u001b[39;00m\u001b[38;5;21;01m.\u001b[39;00m\u001b[38;5;21;01mcolab\u001b[39;00m \u001b[38;5;28;01mimport\u001b[39;00m drive\n\u001b[1;32m      3\u001b[0m drive\u001b[38;5;241m.\u001b[39mmount(\u001b[38;5;124m'\u001b[39m\u001b[38;5;124m/content/drive\u001b[39m\u001b[38;5;124m'\u001b[39m)\n",
      "\u001b[0;31mModuleNotFoundError\u001b[0m: No module named 'google'"
     ]
    }
   ],
   "source": [
    "# Mount your drive to access files in your Google Drive\n",
    "from google.colab import drive\n",
    "\n",
    "drive.mount(\"/content/drive\")"
   ]
  },
  {
   "cell_type": "code",
   "execution_count": null,
   "metadata": {
    "id": "oRpmUnlJJRyG"
   },
   "outputs": [],
   "source": [
    "# cd into the directory where your code is\n",
    "# e.g. %cd /content/drive/MyDrive/cmu/10-301/hw7/handout\n",
    "%cd /content/drive/MyDrive/<path to your code>"
   ]
  },
  {
   "cell_type": "code",
   "execution_count": 10,
   "metadata": {},
   "outputs": [],
   "source": [
    "# Set your data paths. Change this if the data is in a different location\n",
    "tiny_train_stories = \"data/tiny_train_stories.json\"\n",
    "tiny_valid_stories = \"data/tiny_valid_stories.json\"\n",
    "\n",
    "full_train_stories = \"data/HW7_large_stories/train_stories.json\"\n",
    "full_valid_stories = \"data/HW7_large_stories/valid_stories.json\""
   ]
  },
  {
   "cell_type": "markdown",
   "metadata": {
    "id": "t4Whb8pdGOMU"
   },
   "source": [
    "#### Testing"
   ]
  },
  {
   "cell_type": "code",
   "execution_count": 2,
   "metadata": {
    "id": "ign1vlA-c1lG"
   },
   "outputs": [
    {
     "name": "stdout",
     "output_type": "stream",
     "text": [
      "Testing SelfAttention Test Case 1...Passed\n",
      ".Testing SelfAttention Test Case 2...Passed\n",
      ".Testing RNN Test Case 1...Passed\n",
      ".Testing RNN Test Case 2...Passed\n",
      ".Testing RNNCell Test Case 1...Passed\n",
      ".Testing RNNCell Test Case 2...Passed\n",
      ".\n",
      "----------------------------------------------------------------------\n",
      "Ran 6 tests in 0.009s\n",
      "\n",
      "OK\n"
     ]
    }
   ],
   "source": [
    "!python test_rnn.py"
   ]
  },
  {
   "cell_type": "code",
   "execution_count": 12,
   "metadata": {
    "id": "iwfiNlt_GNpI"
   },
   "outputs": [
    {
     "name": "stderr",
     "output_type": "stream",
     "text": [
      "5388.94s - pydevd: Sending message related to process being replaced timed-out after 5 seconds\n"
     ]
    },
    {
     "name": "stdout",
     "output_type": "stream",
     "text": [
      "Using device: mps\n",
      "RNNLanguageModel(\n",
      "  (embeddings): Embedding(1024, 64)\n",
      "  (rnn): RNN(\n",
      "    (cell): RNNCell(\n",
      "      (i2h): Linear(in_features=64, out_features=64, bias=True)\n",
      "      (h2h): Linear(in_features=64, out_features=64, bias=True)\n",
      "      (activation): ReLU()\n",
      "    )\n",
      "    (out): Linear(in_features=64, out_features=64, bias=True)\n",
      "  )\n",
      "  (attention): SelfAttention(\n",
      "    (query_transform): Linear(in_features=64, out_features=32, bias=True)\n",
      "    (key_transform): Linear(in_features=64, out_features=32, bias=True)\n",
      "    (value_transform): Linear(in_features=64, out_features=32, bias=True)\n",
      "    (output_transform): Linear(in_features=32, out_features=64, bias=True)\n",
      "  )\n",
      "  (lm_head): Linear(in_features=64, out_features=1024, bias=True)\n",
      ")\n",
      "Number of Parameters:  152928\n",
      "Loading data\n",
      "Finished Loading Dataset\n",
      "Batch: 0 | Sequence Length: 128 | Elapsed time (minutes): 6e-06\n",
      "Batch: 1 | Sequence Length: 128 | Elapsed time (minutes): 0.187409\n",
      "Batch: 2 | Sequence Length: 128 | Elapsed time (minutes): 0.195837\n",
      "Batch: 3 | Sequence Length: 128 | Elapsed time (minutes): 0.205519\n",
      "Batch: 4 | Sequence Length: 128 | Elapsed time (minutes): 0.212735\n",
      "Batch: 5 | Sequence Length: 128 | Elapsed time (minutes): 0.219746\n",
      "Batch: 6 | Sequence Length: 128 | Elapsed time (minutes): 0.226903\n",
      "Batch: 7 | Sequence Length: 128 | Elapsed time (minutes): 0.234227\n",
      "Batch: 8 | Sequence Length: 128 | Elapsed time (minutes): 0.241265\n",
      "Batch: 9 | Sequence Length: 128 | Elapsed time (minutes): 0.248122\n",
      "Batch: 10 | Sequence Length: 128 | Elapsed time (minutes): 0.255096\n",
      "Batch: 11 | Sequence Length: 128 | Elapsed time (minutes): 0.2623\n",
      "Batch: 12 | Sequence Length: 128 | Elapsed time (minutes): 0.269462\n",
      "Batch: 13 | Sequence Length: 128 | Elapsed time (minutes): 0.276193\n",
      "Batch: 14 | Sequence Length: 128 | Elapsed time (minutes): 0.283062\n",
      "Batch: 15 | Sequence Length: 128 | Elapsed time (minutes): 0.290132\n",
      "Train Batch Losses: [6.936417, 6.932976, 6.914937, 6.913661, 6.894832, 6.885352, 6.86542, 6.833758, 6.808795, 6.78942, 6.741904, 6.699655, 6.6276, 6.539156, 6.493288, 6.423404]\n",
      "Train Losses [6.936417, 6.932976, 6.914937, 6.913661, 6.894832, 6.885352, 6.86542, 6.833758, 6.808795, 6.78942, 6.741904, 6.699655, 6.6276, 6.539156, 6.493288, 6.423404]\n",
      "Valid Losses [6.929992, 6.91949, 6.90806, 6.895203, 6.880203, 6.862362, 6.840925, 6.81508, 6.783675, 6.745385, 6.699357, 6.644373, 6.580077, 6.507969, 6.434808, 6.381335]\n",
      "Final Train Loss 6.423404\n",
      "Final Valid Loss 6.381335\n",
      "Time 17.825958967208862\n",
      "Final Train Loss:  6.423404\n",
      "Final Valid Loss:  6.381335\n"
     ]
    }
   ],
   "source": [
    "!python rnn.py --train_data {tiny_train_stories} --val_data {tiny_valid_stories} --embed_dim 64 --hidden_dim 128 --train_losses_out train_loss.txt --val_losses_out valid_loss.txt --metrics_out metrics.txt --dk 32 --dv 32 --num_sequences 128 --batch_size 8"
   ]
  },
  {
   "cell_type": "markdown",
   "metadata": {
    "id": "5Y89FUa-7Mru"
   },
   "source": [
    "#### 5.1\n",
    "\n",
    "Uncomment the corresponding `embed_hidden_dims`"
   ]
  },
  {
   "cell_type": "code",
   "execution_count": 7,
   "metadata": {
    "id": "8msmm2XCKveG"
   },
   "outputs": [
    {
     "name": "stderr",
     "output_type": "stream",
     "text": [
      "5309.48s - pydevd: Sending message related to process being replaced timed-out after 5 seconds\n"
     ]
    },
    {
     "name": "stdout",
     "output_type": "stream",
     "text": [
      "Using device: mps\n",
      "RNNLanguageModel(\n",
      "  (embeddings): Embedding(1024, 64)\n",
      "  (rnn): RNN(\n",
      "    (cell): RNNCell(\n",
      "      (i2h): Linear(in_features=64, out_features=64, bias=True)\n",
      "      (h2h): Linear(in_features=64, out_features=64, bias=True)\n",
      "      (activation): ReLU()\n",
      "    )\n",
      "    (out): Linear(in_features=64, out_features=64, bias=True)\n",
      "  )\n",
      "  (attention): SelfAttention(\n",
      "    (query_transform): Linear(in_features=64, out_features=128, bias=True)\n",
      "    (key_transform): Linear(in_features=64, out_features=128, bias=True)\n",
      "    (value_transform): Linear(in_features=64, out_features=128, bias=True)\n",
      "    (output_transform): Linear(in_features=128, out_features=64, bias=True)\n",
      "  )\n",
      "  (lm_head): Linear(in_features=64, out_features=1024, bias=True)\n",
      ")\n",
      "Number of Parameters:  177792\n",
      "Loading data\n",
      "Traceback (most recent call last):\n",
      "  File \"/Users/jpthek9/repos/10601-HW7/rnn.py\", line 724, in <module>\n",
      "    main(args)\n",
      "  File \"/Users/jpthek9/repos/10601-HW7/rnn.py\", line 608, in main\n",
      "    train_data = SentenceDataset(args.train_data)\n",
      "  File \"/Users/jpthek9/repos/10601-HW7/rnn.py\", line 19, in __init__\n",
      "    with open(a) as f:\n",
      "FileNotFoundError: [Errno 2] No such file or directory: 'data/HW7_large_stories/train_stories.json'\n"
     ]
    }
   ],
   "source": [
    "embed_hidden_dims = 64\n",
    "# embed_hidden_dims = 128\n",
    "# embed_hidden_dims = 256\n",
    "# embed_hidden_dims = 512\n",
    "!python rnn.py --train_data {full_train_stories} --val_data {full_valid_stories} --embed_dim {embed_hidden_dims} --hidden_dim {embed_hidden_dims} --train_losses_out train_losses.txt --val_losses_out val_losses.txt --metrics_out metrics.txt --dk 128 --dv 128 --num_sequences 50000 --batch_size 128"
   ]
  },
  {
   "cell_type": "markdown",
   "metadata": {
    "id": "nQ4fn9YDAmiW"
   },
   "source": [
    "#### 5.2"
   ]
  },
  {
   "cell_type": "code",
   "execution_count": 8,
   "metadata": {
    "id": "Vh5lsRTuApFD"
   },
   "outputs": [
    {
     "name": "stderr",
     "output_type": "stream",
     "text": [
      "5316.02s - pydevd: Sending message related to process being replaced timed-out after 5 seconds\n"
     ]
    },
    {
     "name": "stdout",
     "output_type": "stream",
     "text": [
      "Using device: mps\n",
      "RNNLanguageModel(\n",
      "  (embeddings): Embedding(1024, 128)\n",
      "  (rnn): RNN(\n",
      "    (cell): RNNCell(\n",
      "      (i2h): Linear(in_features=128, out_features=128, bias=True)\n",
      "      (h2h): Linear(in_features=128, out_features=128, bias=True)\n",
      "      (activation): ReLU()\n",
      "    )\n",
      "    (out): Linear(in_features=128, out_features=128, bias=True)\n",
      "  )\n",
      "  (attention): SelfAttention(\n",
      "    (query_transform): Linear(in_features=128, out_features=128, bias=True)\n",
      "    (key_transform): Linear(in_features=128, out_features=128, bias=True)\n",
      "    (value_transform): Linear(in_features=128, out_features=128, bias=True)\n",
      "    (output_transform): Linear(in_features=128, out_features=128, bias=True)\n",
      "  )\n",
      "  (lm_head): Linear(in_features=128, out_features=1024, bias=True)\n",
      ")\n",
      "Number of Parameters:  378752\n",
      "Loading data\n",
      "Traceback (most recent call last):\n",
      "  File \"/Users/jpthek9/repos/10601-HW7/rnn.py\", line 724, in <module>\n",
      "    main(args)\n",
      "  File \"/Users/jpthek9/repos/10601-HW7/rnn.py\", line 608, in main\n",
      "    train_data = SentenceDataset(args.train_data)\n",
      "  File \"/Users/jpthek9/repos/10601-HW7/rnn.py\", line 19, in __init__\n",
      "    with open(a) as f:\n",
      "FileNotFoundError: [Errno 2] No such file or directory: 'data/HW7_large_stories/train_stories.json'\n"
     ]
    }
   ],
   "source": [
    "batch_size = 32\n",
    "# batch_size = 64\n",
    "# batch_size = 128\n",
    "# batch_size = 256\n",
    "!python rnn.py --train_data {full_train_stories} --val_data {full_valid_stories} --embed_dim 128 --hidden_dim 128 --train_losses_out train_losses.txt --val_losses_out val_losses.txt --metrics_out metrics.txt --dk 128 --dv 128 --num_sequences 50000 --batch_size {batch_size}"
   ]
  },
  {
   "cell_type": "markdown",
   "metadata": {
    "id": "l3-FuxQlB8TI"
   },
   "source": [
    "#### 5.3"
   ]
  },
  {
   "cell_type": "code",
   "execution_count": 9,
   "metadata": {
    "id": "YtltQa_uB9a_"
   },
   "outputs": [
    {
     "name": "stderr",
     "output_type": "stream",
     "text": [
      "5322.44s - pydevd: Sending message related to process being replaced timed-out after 5 seconds\n"
     ]
    },
    {
     "name": "stdout",
     "output_type": "stream",
     "text": [
      "Using device: mps\n",
      "RNNLanguageModel(\n",
      "  (embeddings): Embedding(1024, 128)\n",
      "  (rnn): RNN(\n",
      "    (cell): RNNCell(\n",
      "      (i2h): Linear(in_features=128, out_features=128, bias=True)\n",
      "      (h2h): Linear(in_features=128, out_features=128, bias=True)\n",
      "      (activation): ReLU()\n",
      "    )\n",
      "    (out): Linear(in_features=128, out_features=128, bias=True)\n",
      "  )\n",
      "  (attention): SelfAttention(\n",
      "    (query_transform): Linear(in_features=128, out_features=128, bias=True)\n",
      "    (key_transform): Linear(in_features=128, out_features=128, bias=True)\n",
      "    (value_transform): Linear(in_features=128, out_features=128, bias=True)\n",
      "    (output_transform): Linear(in_features=128, out_features=128, bias=True)\n",
      "  )\n",
      "  (lm_head): Linear(in_features=128, out_features=1024, bias=True)\n",
      ")\n",
      "Number of Parameters:  378752\n",
      "Loading data\n",
      "Traceback (most recent call last):\n",
      "  File \"/Users/jpthek9/repos/10601-HW7/rnn.py\", line 724, in <module>\n",
      "    main(args)\n",
      "  File \"/Users/jpthek9/repos/10601-HW7/rnn.py\", line 608, in main\n",
      "    train_data = SentenceDataset(args.train_data)\n",
      "  File \"/Users/jpthek9/repos/10601-HW7/rnn.py\", line 19, in __init__\n",
      "    with open(a) as f:\n",
      "FileNotFoundError: [Errno 2] No such file or directory: 'data/HW7_large_stories/train_stories.json'\n"
     ]
    }
   ],
   "source": [
    "num_sequences = 10000\n",
    "# num_sequences = 20000\n",
    "# num_sequences = 50000\n",
    "# num_sequences = 100000\n",
    "!python rnn.py --train_data {full_train_stories} --val_data {full_valid_stories} --embed_dim 128 --hidden_dim 128 --train_losses_out train_losses.txt --val_losses_out val_losses.txt --metrics_out metrics.txt --dk 128 --dv 128 --num_sequences {num_sequences} --batch_size 128"
   ]
  },
  {
   "cell_type": "markdown",
   "metadata": {
    "id": "8iwe2VRiEjO2"
   },
   "source": [
    "#### 5.4\n",
    "\n"
   ]
  },
  {
   "cell_type": "code",
   "execution_count": null,
   "metadata": {
    "id": "rtMCKtcJEkZ0"
   },
   "outputs": [],
   "source": [
    "!python rnn.py --train_data {full_train_stories} --val_data {full_valid_stories} --embed_dim 512 --hidden_dim 512 --train_losses_out train_losses.txt --val_losses_out val_losses.txt --metrics_out metrics.txt --dk 256 --dv 256 --num_sequences 250000 --batch_size 128"
   ]
  }
 ],
 "metadata": {
  "colab": {
   "provenance": []
  },
  "kernelspec": {
   "display_name": "10601-hw7",
   "language": "python",
   "name": "python3"
  },
  "language_info": {
   "codemirror_mode": {
    "name": "ipython",
    "version": 3
   },
   "file_extension": ".py",
   "mimetype": "text/x-python",
   "name": "python",
   "nbconvert_exporter": "python",
   "pygments_lexer": "ipython3",
   "version": "3.10.15"
  }
 },
 "nbformat": 4,
 "nbformat_minor": 0
}
